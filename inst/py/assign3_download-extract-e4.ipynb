{
 "cells": [
  {
   "cell_type": "raw",
   "metadata": {},
   "source": [
    "---\n",
    "title: \"Download & Extract Empatica Data\"\n",
    "format: html\n",
    "---"
   ]
  },
  {
   "cell_type": "code",
   "execution_count": null,
   "metadata": {},
   "outputs": [],
   "source": [
    "import pathlib"
   ]
  },
  {
   "cell_type": "markdown",
   "metadata": {},
   "source": [
    "This file quickly downloads and extracts the Empatica data necessary for the assignment. The original file\n",
    "is in the Downloads folder:"
   ]
  },
  {
   "cell_type": "code",
   "execution_count": null,
   "metadata": {},
   "outputs": [],
   "source": [
    "download_path = \"~/Downloads/WESAD.zip\""
   ]
  },
  {
   "cell_type": "code",
   "execution_count": 2,
   "metadata": {},
   "outputs": [
    {
     "ename": "SyntaxError",
     "evalue": "invalid syntax (1278643590.py, line 2)",
     "output_type": "error",
     "traceback": [
      "\u001b[0;36m  Input \u001b[0;32mIn [2]\u001b[0;36m\u001b[0m\n\u001b[0;31m    cd ../extdata && curl https://uni-siegen.sciebo.de/s/HGdUkoNlW1Ub0Gx/download -O -L\u001b[0m\n\u001b[0m        ^\u001b[0m\n\u001b[0;31mSyntaxError\u001b[0m\u001b[0;31m:\u001b[0m invalid syntax\n"
     ]
    }
   ],
   "source": [
    "pwd\n",
    "cd ../extdata && curl https://uni-siegen.sciebo.de/s/HGdUkoNlW1Ub0Gx/download -O -L\n",
    "\n",
    "#tar -xzvf WISDM_ar_latest.tar.gz\n",
    "\n",
    "#mv WISDM_ar_v1.1/WISDM_ar_v1.1_raw.txt activity.csv\n",
    "\n",
    "#rm -rf WISDM*"
   ]
  }
 ],
 "metadata": {
  "kernelspec": {
   "display_name": "Python 3.10.6 ('hinf5300')",
   "language": "python",
   "name": "python3"
  },
  "language_info": {
   "codemirror_mode": {
    "name": "ipython",
    "version": 3
   },
   "file_extension": ".py",
   "mimetype": "text/x-python",
   "name": "python",
   "nbconvert_exporter": "python",
   "pygments_lexer": "ipython3",
   "version": "3.10.6"
  },
  "orig_nbformat": 4,
  "vscode": {
   "interpreter": {
    "hash": "82df376ecf9e0a17788cf8f523b8ed2ad3bcc7c38c770939dcf79a60e76f0e43"
   }
  }
 },
 "nbformat": 4,
 "nbformat_minor": 2
}
